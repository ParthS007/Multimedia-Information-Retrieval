{
 "cells": [
  {
   "cell_type": "code",
   "execution_count": 1,
   "id": "6accde29-edf2-425f-85f5-6345be611ed7",
   "metadata": {},
   "outputs": [
    {
     "name": "stderr",
     "output_type": "stream",
     "text": [
      "/Users/jarvis/code/university/mmir/env/lib/python3.11/site-packages/tqdm/auto.py:21: TqdmWarning: IProgress not found. Please update jupyter and ipywidgets. See https://ipywidgets.readthedocs.io/en/stable/user_install.html\n",
      "  from .autonotebook import tqdm as notebook_tqdm\n"
     ]
    }
   ],
   "source": [
    "import nltk\n",
    "import pandas as pd\n",
    "from nltk.corpus import stopwords\n",
    "from collections import Counter\n",
    "from unidecode import unidecode\n",
    "from collections import defaultdict\n",
    "from sentence_transformers import SentenceTransformer, util\n",
    "from sklearn.metrics import accuracy_score\n",
    "from sklearn.naive_bayes import MultinomialNB\n",
    "from sklearn.feature_extraction.text import CountVectorizer\n",
    "import time"
   ]
  },
  {
   "cell_type": "code",
   "execution_count": 2,
   "id": "9d68b6ea-27d3-4512-9d09-e83b83e277d7",
   "metadata": {},
   "outputs": [],
   "source": [
    "imdb_df = pd.read_csv(\"imdb.csv\")\n",
    "movie_titles = imdb_df[\"Series_Title\"].tolist()\n",
    "\n",
    "# https://www.kaggle.com/datasets/basilb2s/language-detection?resource=download\n",
    "language_dataset = pd.read_csv(\"ld.csv\")\n",
    "texts = language_dataset[\"Text\"]\n",
    "languages = language_dataset[\"Language\"]"
   ]
  },
  {
   "cell_type": "code",
   "execution_count": 3,
   "id": "01959ac3-24f1-44ac-ad9b-7dd27ea5a415",
   "metadata": {},
   "outputs": [],
   "source": [
    "english_text = \"This is an example sentence in English.\"\n",
    "spanish_text = \"Este es un ejemplo de frase en español.\"\n",
    "french_text = \"Ceci est un exemple de phrase en français.\"\n",
    "german_text = \"Dies ist ein Beispiel für einen Satz auf Deutsch.\"\n",
    "italian_text = \"Questo è un esempio di frase in italiano.\"\n",
    "\n",
    "languages_test = {\n",
    "    \"english\": english_text,\n",
    "    \"spanish\": spanish_text,\n",
    "    \"french\": french_text,\n",
    "    \"german\": german_text,\n",
    "    \"italian\": italian_text,\n",
    "}"
   ]
  },
  {
   "cell_type": "markdown",
   "id": "fa13774a-f930-4c77-9928-669576c6b071",
   "metadata": {},
   "source": [
    "### Question A"
   ]
  },
  {
   "cell_type": "code",
   "execution_count": 4,
   "id": "9dd81d01-2623-4315-a91e-413744a4141d",
   "metadata": {},
   "outputs": [
    {
     "name": "stderr",
     "output_type": "stream",
     "text": [
      "[nltk_data] Downloading package stopwords to\n",
      "[nltk_data]     /Users/jarvis/nltk_data...\n",
      "[nltk_data]   Package stopwords is already up-to-date!\n",
      "[nltk_data] Downloading package punkt to /Users/jarvis/nltk_data...\n",
      "[nltk_data]   Package punkt is already up-to-date!\n",
      "[nltk_data] Downloading package punkt_tab to\n",
      "[nltk_data]     /Users/jarvis/nltk_data...\n",
      "[nltk_data]   Package punkt_tab is already up-to-date!\n"
     ]
    },
    {
     "data": {
      "text/plain": [
       "True"
      ]
     },
     "execution_count": 4,
     "metadata": {},
     "output_type": "execute_result"
    }
   ],
   "source": [
    "nltk.download(\"stopwords\")\n",
    "nltk.download(\"punkt\")\n",
    "nltk.download(\"punkt_tab\")"
   ]
  },
  {
   "cell_type": "code",
   "execution_count": 5,
   "id": "6983d6b2-12f4-47e3-89d5-69a01c726ad2",
   "metadata": {},
   "outputs": [
    {
     "name": "stdout",
     "output_type": "stream",
     "text": [
      "The detected language is: italian\n"
     ]
    }
   ],
   "source": [
    "def detect_language(text, languages):\n",
    "    stop_words_count = {}\n",
    "\n",
    "    for lang in languages:\n",
    "        stop_words = set(stopwords.words(lang))\n",
    "        words = nltk.word_tokenize(text.lower())\n",
    "        common_stop_words = set([word for word in words if word in stop_words])\n",
    "        stop_words_count[lang] = len(common_stop_words)\n",
    "\n",
    "    detected_language = max(stop_words_count, key=stop_words_count.get)\n",
    "    return detected_language\n",
    "\n",
    "\n",
    "detected_lang = detect_language(languages_test.get(\"italian\"), languages_test)\n",
    "print(f\"The detected language is: {detected_lang}\")"
   ]
  },
  {
   "cell_type": "markdown",
   "id": "c593b749-4027-4bd6-b1a9-a5d599b87e44",
   "metadata": {},
   "source": [
    "### Question B"
   ]
  },
  {
   "cell_type": "code",
   "execution_count": 6,
   "id": "b0d65c5b-ce4c-446e-91c3-aee2bda3da72",
   "metadata": {},
   "outputs": [
    {
     "name": "stdout",
     "output_type": "stream",
     "text": [
      "Title: Inception, Similarity Score: 0.125\n",
      "Title: The Lion King, Similarity Score: 0.18181818181818182\n",
      "Title: Lion, Similarity Score: 1.0\n",
      "Title: Ying xiong, Similarity Score: 0.11538461538461539\n",
      "Title: The Lion in Winter, Similarity Score: 0.13043478260869565\n",
      "Title: Repulsion, Similarity Score: 0.125\n"
     ]
    }
   ],
   "source": [
    "# Function to perform subword tokenization on a given text\n",
    "def subword_tokenization(text, lengths=[2, 3, 4]):\n",
    "    subtokens = set()\n",
    "    for length in lengths:\n",
    "        for i in range(len(text) - length + 1):\n",
    "            subtoken = text[i : i + length]\n",
    "            subtokens.add(subtoken)\n",
    "    return subtokens\n",
    "\n",
    "\n",
    "# Extract movie titles from the DataFrame and convert to a list\n",
    "movie_titles = imdb_df[\"Series_Title\"].tolist()\n",
    "\n",
    "set_of_word_representation = set()\n",
    "\n",
    "# Generate subword representations for all movie titles and store in a set\n",
    "for title in movie_titles:\n",
    "    subtokens = subword_tokenization(title)\n",
    "    set_of_word_representation.update(subtokens)\n",
    "\n",
    "\n",
    "# Function to calculate similarity between two texts based on subword tokenization\n",
    "def similarity(query, title):\n",
    "    query_subtokens = subword_tokenization(query)\n",
    "    title_subtokens = subword_tokenization(title)\n",
    "\n",
    "    # Calculate intersection and union of subtokens\n",
    "    intersection = len(query_subtokens.intersection(title_subtokens))\n",
    "    union = len(query_subtokens.union(title_subtokens))\n",
    "\n",
    "    # Calculate similarity score to measure overlap\n",
    "    similarity_score = intersection / union if union > 0 else 0\n",
    "\n",
    "    return similarity_score\n",
    "\n",
    "\n",
    "query = \"Lion\"\n",
    "similarity_threshold = 0.1\n",
    "\n",
    "# Compare query with movie titles and print titles with similarity above the threshold\n",
    "for title in movie_titles:\n",
    "    score = similarity(query, title)\n",
    "    if score > similarity_threshold:\n",
    "        print(f\"Title: {title}, Similarity Score: {score}\")"
   ]
  },
  {
   "cell_type": "markdown",
   "id": "f2a9c5a2-50ef-43b3-9f81-8a31b01f6bc8",
   "metadata": {},
   "source": [
    "### Question C"
   ]
  },
  {
   "cell_type": "code",
   "execution_count": 7,
   "id": "d479d173-afc3-479f-80b5-29c66379a045",
   "metadata": {},
   "outputs": [
    {
     "name": "stdout",
     "output_type": "stream",
     "text": [
      "Model: paraphrase-MiniLM-L6-v2\n",
      "Similar Titles:\n",
      "Title: In the Name of the Father, Similarity Score: 0.8266555666923523\n",
      "Execution Time: 13.1069 seconds\n",
      "----------------------------------------\n",
      "Model: all-MiniLM-L6-v2\n",
      "Similar Titles:\n",
      "Execution Time: 2.3783 seconds\n",
      "----------------------------------------\n",
      "Model: average_word_embeddings_glove.6B.300d\n",
      "Similar Titles:\n",
      "Title: In the Name of the Father, Similarity Score: 1.0\n",
      "Execution Time: 4.5499 seconds\n",
      "----------------------------------------\n"
     ]
    }
   ],
   "source": [
    "# Encode movie titles to get dense vectors\n",
    "def encode_titles(model, titles):\n",
    "    return model.encode(titles, convert_to_tensor=True)\n",
    "\n",
    "\n",
    "# Perform semantic search for a given query and model\n",
    "def semantic_search(model_name, query, movie_titles, similarity_threshold=0.7):\n",
    "    start_time = time.time()\n",
    "\n",
    "    # Load the selected sentence transformer model\n",
    "    model = SentenceTransformer(model_name)\n",
    "\n",
    "    # Encode movie titles to get dense vectors\n",
    "    encoded_titles = encode_titles(model, movie_titles)\n",
    "\n",
    "    # Encode the query to get its dense vector representation\n",
    "    encoded_query = model.encode(query, convert_to_tensor=True)\n",
    "\n",
    "    # Calculate cosine similarity between the query and movie titles\n",
    "    cos_similarities = util.pytorch_cos_sim(encoded_query, encoded_titles)\n",
    "\n",
    "    # Find titles that are semantically similar to the query\n",
    "    similar_titles = []\n",
    "    for i, score in enumerate(cos_similarities[0]):\n",
    "        if score > similarity_threshold:\n",
    "            similar_titles.append((movie_titles[i], score))\n",
    "\n",
    "    end_time = time.time()\n",
    "    execution_time = end_time - start_time\n",
    "\n",
    "    return similar_titles, execution_time\n",
    "\n",
    "\n",
    "# Define the query\n",
    "query = \"Father\"\n",
    "\n",
    "# List of different models to benchmark\n",
    "model_names = [\n",
    "    \"paraphrase-MiniLM-L6-v2\",\n",
    "    \"all-MiniLM-L6-v2\",\n",
    "    \"average_word_embeddings_glove.6B.300d\",\n",
    "]\n",
    "\n",
    "# Benchmark different models\n",
    "for model_name in model_names:\n",
    "    print(f\"Model: {model_name}\")\n",
    "    similar_titles, execution_time = semantic_search(model_name, query, movie_titles)\n",
    "    print(f\"Similar Titles:\")\n",
    "    for title, score in similar_titles:\n",
    "        print(f\"Title: {title}, Similarity Score: {score}\")\n",
    "    print(f\"Execution Time: {execution_time:.4f} seconds\")\n",
    "    print(\"-\" * 40)"
   ]
  },
  {
   "cell_type": "markdown",
   "id": "de260e83-be10-4b0e-afd6-4f11a73d38df",
   "metadata": {},
   "source": [
    "### Question D"
   ]
  },
  {
   "cell_type": "code",
   "execution_count": 8,
   "id": "90fcb1a2-00b6-4adf-82c1-ef5dfaf59c48",
   "metadata": {},
   "outputs": [],
   "source": [
    "# Initialize defaultdict to store sub-sequences for each language\n",
    "sub_sequences_per_language = defaultdict(list)\n",
    "\n",
    "# Generate sub-sequences for each text and respective language\n",
    "for text, language in zip(texts, languages):\n",
    "    sub_sequences = subword_tokenization(text)\n",
    "    sub_sequences_per_language[language].extend(sub_sequences)\n",
    "\n",
    "# Count occurrences of sub-sequences per language\n",
    "top_n_sub_sequences = {}\n",
    "top_n = 1000  # Set the number of top sub-sequences per language\n",
    "\n",
    "for language, sequences in sub_sequences_per_language.items():\n",
    "    sequence_counter = Counter(sequences)\n",
    "    top_sequences = sequence_counter.most_common(top_n)\n",
    "    top_n_sub_sequences[language] = [seq for seq, _ in top_sequences]\n",
    "\n",
    "# Flatten top sub-sequences for training\n",
    "X_train = []\n",
    "y_train = []\n",
    "\n",
    "for language, sequences in top_n_sub_sequences.items():\n",
    "    X_train.extend(sequences)\n",
    "    y_train.extend([language] * len(sequences))\n",
    "\n",
    "# Vectorize the sub-sequences\n",
    "vectorizer = CountVectorizer(analyzer=\"char\", ngram_range=(2, 4))\n",
    "X_train_vectorized = vectorizer.fit_transform(X_train)\n",
    "\n",
    "# Train the Naive Bayes classifier\n",
    "nb_classifier = MultinomialNB()\n",
    "nb_classifier.fit(X_train_vectorized, y_train)\n",
    "\n",
    "\n",
    "# Function to predict language\n",
    "def predict_language(text, vectorizer, nb_classifier):\n",
    "    sub_sequences = subword_tokenization(text)\n",
    "    text_vectorized = vectorizer.transform(sub_sequences)\n",
    "    predicted_language = nb_classifier.predict(text_vectorized)\n",
    "    return predicted_language"
   ]
  },
  {
   "cell_type": "code",
   "execution_count": 9,
   "id": "3569b51b-d4e5-4554-8abd-33af22d156a9",
   "metadata": {},
   "outputs": [
    {
     "name": "stdout",
     "output_type": "stream",
     "text": [
      "Test Text: Dies ist ein Beispiel für einen Satz auf Deutsch.\n",
      "Predicted Language: Turkish\n"
     ]
    }
   ],
   "source": [
    "# Predict the language of the test text\n",
    "predicted_language = predict_language(\n",
    "    languages_test.get(\"german\"), vectorizer, nb_classifier\n",
    ")\n",
    "print(f\"Test Text: {languages_test.get('german')}\")\n",
    "print(f\"Predicted Language: {predicted_language[0]}\")"
   ]
  }
 ],
 "metadata": {
  "kernelspec": {
   "display_name": "env",
   "language": "python",
   "name": "python3"
  },
  "language_info": {
   "codemirror_mode": {
    "name": "ipython",
    "version": 3
   },
   "file_extension": ".py",
   "mimetype": "text/x-python",
   "name": "python",
   "nbconvert_exporter": "python",
   "pygments_lexer": "ipython3",
   "version": "3.11.8"
  }
 },
 "nbformat": 4,
 "nbformat_minor": 5
}
