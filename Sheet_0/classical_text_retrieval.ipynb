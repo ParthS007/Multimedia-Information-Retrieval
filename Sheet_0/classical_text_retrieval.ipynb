{
 "cells": [
  {
   "cell_type": "code",
   "execution_count": null,
   "id": "f8b66745",
   "metadata": {},
   "outputs": [],
   "source": [
    "%%pom\n",
    "dependencies:\n",
    "- org.apache.lucene:lucene-core:9.7.0\n",
    "- org.apache.lucene:lucene-analysis-common:9.7.0\n",
    "- org.apache.lucene:lucene-queryparser:9.7.0"
   ]
  },
  {
   "cell_type": "code",
   "execution_count": null,
   "id": "5729a562",
   "metadata": {},
   "outputs": [],
   "source": [
    "import java.io.BufferedReader;\n",
    "import java.io.FileReader;\n",
    "import java.io.IOException;\n",
    "import java.io.StringReader;\n",
    "import java.nio.file.Files;\n",
    "import java.nio.file.Paths;\n",
    "\n",
    "import java.util.Arrays;\n",
    "import java.util.ArrayList;\n",
    "import java.util.HashMap;\n",
    "import java.util.Map;\n",
    "import java.util.List;"
   ]
  },
  {
   "cell_type": "code",
   "execution_count": null,
   "id": "cda83ec8",
   "metadata": {},
   "outputs": [],
   "source": [
    "import org.apache.lucene.analysis.Analyzer;\n",
    "import org.apache.lucene.analysis.CharArraySet;\n",
    "import org.apache.lucene.analysis.FilteringTokenFilter;\n",
    "import org.apache.lucene.analysis.TokenStream;\n",
    "import org.apache.lucene.analysis.Tokenizer;\n",
    "import org.apache.lucene.analysis.en.EnglishAnalyzer;\n",
    "import org.apache.lucene.analysis.en.EnglishPossessiveFilter;\n",
    "import org.apache.lucene.analysis.en.KStemFilter;\n",
    "import org.apache.lucene.analysis.en.PorterStemFilter;\n",
    "import org.apache.lucene.analysis.standard.StandardAnalyzer;\n",
    "import org.apache.lucene.analysis.standard.StandardTokenizer;\n",
    "import org.apache.lucene.analysis.tokenattributes.CharTermAttribute;\n",
    "import org.apache.lucene.document.Document;\n",
    "import org.apache.lucene.document.Field;\n",
    "import org.apache.lucene.document.Field.Store;\n",
    "import org.apache.lucene.document.TextField;\n",
    "import org.apache.lucene.document.IntField;\n",
    "import org.apache.lucene.document.FieldType;\n",
    "import org.apache.lucene.document.FloatField;\n",
    "import org.apache.lucene.document.FloatPoint;\n",
    "import org.apache.lucene.index.DirectoryReader;\n",
    "import org.apache.lucene.index.Fields;\n",
    "import org.apache.lucene.index.IndexOptions;\n",
    "import org.apache.lucene.index.IndexReader;\n",
    "import org.apache.lucene.index.IndexWriter;\n",
    "import org.apache.lucene.index.IndexWriterConfig;\n",
    "import org.apache.lucene.index.LogDocMergePolicy;\n",
    "import org.apache.lucene.index.MergePolicy;\n",
    "import org.apache.lucene.index.MultiTerms;\n",
    "import org.apache.lucene.index.NoMergePolicy;\n",
    "import org.apache.lucene.index.PostingsEnum;\n",
    "import org.apache.lucene.index.StoredFields;\n",
    "import org.apache.lucene.index.Term;\n",
    "import org.apache.lucene.index.Terms;\n",
    "import org.apache.lucene.index.TermsEnum;\n",
    "import org.apache.lucene.index.TermVectors;\n",
    "import org.apache.lucene.search.BooleanQuery;\n",
    "import org.apache.lucene.search.BooleanClause;\n",
    "import org.apache.lucene.search.BooleanClause.Occur;\n",
    "import org.apache.lucene.search.BoostQuery;\n",
    "import org.apache.lucene.search.IndexSearcher;\n",
    "import org.apache.lucene.search.Query;\n",
    "import org.apache.lucene.search.ScoreDoc;\n",
    "import org.apache.lucene.search.TermRangeQuery;\n",
    "import org.apache.lucene.search.TermQuery;\n",
    "import org.apache.lucene.search.TopDocs;\n",
    "import org.apache.lucene.store.Directory;\n",
    "import org.apache.lucene.store.FSDirectory;\n",
    "import org.apache.lucene.store.Directory;\n",
    "import org.apache.lucene.store.FSDirectory;\n",
    "import org.apache.lucene.queryparser.classic.MultiFieldQueryParser;\n",
    "import org.apache.lucene.queryparser.classic.QueryParser;\n",
    "import org.apache.lucene.queryparser.classic.ParseException;\n",
    "import org.apache.lucene.util.BytesRef;"
   ]
  },
  {
   "cell_type": "code",
   "execution_count": null,
   "id": "56149753",
   "metadata": {},
   "outputs": [],
   "source": []
  },
  {
   "cell_type": "markdown",
   "id": "0a4f6612",
   "metadata": {},
   "source": [
    "# A) Import the CSV data into a Lucene index"
   ]
  },
  {
   "cell_type": "code",
   "execution_count": null,
   "id": "77e1d8dc",
   "metadata": {},
   "outputs": [],
   "source": [
    "var fileImdbDataset = \"imdb_top_1000.csv\";\n",
    "var pathIndex = \"index\";"
   ]
  },
  {
   "cell_type": "code",
   "execution_count": null,
   "id": "32d53b48",
   "metadata": {},
   "outputs": [],
   "source": [
    "List<Map<String, String>> readCollection(String name) throws IOException {\n",
    "    List<Map<String, String>> docs = new ArrayList<Map<String, String>>();\n",
    "    String splitter = \",(?=(?:[^\\\"]*\\\"[^\\\"]*\\\")*[^\\\"]*$)\";\n",
    "    BufferedReader reader = new BufferedReader(new FileReader(name));\n",
    "    String line, keys[] = reader.readLine().split(splitter);\n",
    "\n",
    "    while ((line = reader.readLine()) != null) {\n",
    "        String[] values = line.split(splitter);\n",
    "        Map<String, String> dataMap = new HashMap<>();\n",
    "\n",
    "        for (int i = 0; i < keys.length; i++) {\n",
    "            // dataMap.put(keys[i], values[i]);\n",
    "            switch (keys[i]) {\n",
    "                case \"Series_Title\":\n",
    "                    dataMap.put(\"title\", values[i]);\n",
    "                    break;\n",
    "                case \"Released_Year\":\n",
    "                    dataMap.put(\"year\", values[i]);\n",
    "                    break;\n",
    "                case \"Runtime\":\n",
    "                    dataMap.put(\"runtime\", values[i].replace(\" min\", \"\"));\n",
    "                    break;\n",
    "                case \"Genre\":\n",
    "                    dataMap.put(\"genre\", values[i].replace(\",\", \"\"));\n",
    "                    break;\n",
    "                case \"IMDB_Rating\":\n",
    "                    dataMap.put(\"rating\", values[i]);\n",
    "                    break;\n",
    "                case \"Overview\":\n",
    "                    dataMap.put(\"summary\", values[i].replace(\"\\\"\", \"\"));\n",
    "                    break;\n",
    "                case \"Star1\":\n",
    "                    dataMap.put(\"actors\", values[i]);\n",
    "                    break;\n",
    "                case \"Star2\":\n",
    "                case \"Star3\":\n",
    "                case \"Star4\":\n",
    "                    dataMap.put(\"actors\", dataMap.get(\"actors\") + \" \" + values[i]);\n",
    "                    break;\n",
    "            }\n",
    "        }\n",
    "        docs.add(dataMap);\n",
    "    }\n",
    "    reader.close();\n",
    "\n",
    "    // print summary\n",
    "    System.out.println(\"Read \" + docs.size() + \" documents from \" + name);\n",
    "    return docs;\n",
    "}\n",
    "\n",
    "var collection = readCollection(fileImdbDataset);\n",
    "System.out.println(\"\\nfirst document:\");\n",
    "collection.get(0).forEach((key, value) -> System.out.println(String.format(\"%10s: %s\", key, value)));"
   ]
  },
  {
   "cell_type": "markdown",
   "id": "712a6cfc",
   "metadata": {},
   "source": [
    "# B) - G)"
   ]
  },
  {
   "cell_type": "code",
   "execution_count": null,
   "id": "7f95db58",
   "metadata": {},
   "outputs": [],
   "source": [
    "IndexSearcher getIndexSearcher() throws IOException {\n",
    "    return new IndexSearcher(DirectoryReader.open(getDirectory()));\n",
    "}\n",
    "\n",
    "QueryParser getQueryParser() throws IOException {\n",
    "    return new MultiFieldQueryParser(new String[]{\"title\", \"summary\", \"genre\", \"actors\"}, getAnalyzer());\n",
    "}\n",
    "\n",
    "QueryParser getQueryParser(String field) throws IOException {\n",
    "    return new QueryParser(field, getAnalyzer());\n",
    "}"
   ]
  },
  {
   "cell_type": "code",
   "execution_count": null,
   "id": "7d439cc8",
   "metadata": {},
   "outputs": [],
   "source": [
    "void printResults(String query, TopDocs results) throws IOException {\n",
    "    int rank = 1;\n",
    "    System.out.println(\"Query: \" + query);\n",
    "    System.out.printf(\"%3s %5s %6s %6s %7s %6s   %s\\n\", \"#\", \"id\", \"Score\", \"Year\", \"Runtime\", \"Rating\", \"Title\" );\n",
    "    for(ScoreDoc doc: results.scoreDocs) {\n",
    "        Document document = getIndexSearcher().doc(doc.doc);\n",
    "        System.out.printf(\"%3d %5d %6.2f %6s %7s %6s   %s\\n\", rank++, doc.doc, doc.score, \n",
    "            document.get(\"year\"), document.get(\"runtime\"), document.get(\"rating\"), document.get(\"title\") );\n",
    "    } \n",
    "    System.out.println();\n",
    "}\n",
    "\n",
    "void searchExamples(QueryParser parser, String[] queries) throws IOException, ParseException {\n",
    "    IndexSearcher searcher = getIndexSearcher();\n",
    "\n",
    "    for(String query: queries) {\n",
    "        printResults(query, searcher.search(parser.parse(query), 10));\n",
    "        System.out.println();\n",
    "    }\n",
    "}\n",
    "\n",
    "void searchQuery(Query query) throws IOException {\n",
    "    IndexSearcher searcher = getIndexSearcher();\n",
    "    TopDocs results = searcher.search(query, 10);\n",
    "    printResults(query.toString(), results);\n",
    "}"
   ]
  },
  {
   "cell_type": "code",
   "execution_count": null,
   "id": "48676e37",
   "metadata": {},
   "outputs": [],
   "source": [
    "searchExamples(getQueryParser(), new String[]{\n",
    "    \"star wars\", \n",
    "    \"drama morgan freeman\", \n",
    "    \"comedy\"\n",
    "});"
   ]
  },
  {
   "cell_type": "code",
   "execution_count": null,
   "id": "1e40fdf8",
   "metadata": {},
   "outputs": [],
   "source": [
    "// E Faceted search\n",
    "searchExamples(getQueryParser(), new String[]{\n",
    "    \"genre:drama actors:morgan actors:freeman\", \n",
    "    \"genre:comedy\",\n",
    "});"
   ]
  },
  {
   "cell_type": "code",
   "execution_count": null,
   "id": "3f890b23",
   "metadata": {},
   "outputs": [],
   "source": [
    "// D-F Spell - check\n",
    "searchExamples(getQueryParser(), new String[]{\n",
    "    \"title:leon\",\n",
    "    \"title:l?on\",\n",
    "    \"title:leon~0.6\",\n",
    "});"
   ]
  },
  {
   "cell_type": "code",
   "execution_count": null,
   "id": "7a98bdf4",
   "metadata": {},
   "outputs": [],
   "source": [
    "// G Pagination\n",
    "searchExamples(getQueryParser(), new String[]{\n",
    "    \"title:{a TO b}\",\n",
    "    \"year:{1990 TO 2000}\",\n",
    "    \"year:1994\",\n",
    "    \"runtime:142\"\n",
    "});"
   ]
  },
  {
   "cell_type": "code",
   "execution_count": null,
   "id": "48944004",
   "metadata": {},
   "outputs": [],
   "source": [
    "var query = new BooleanQuery.Builder()\n",
    "        // .add(IntField.newExactQuery(\"runtime\", 142), Occur.MUST)\n",
    "        // .add(IntField.newExactQuery(\"runtime\", 142), Occur.SHOULD)\n",
    "        .add(IntField.newExactQuery(\"runtime\", 142), Occur.FILTER)\n",
    "        .add(new TermQuery(new Term(\"actors\", \"morgan\")), Occur.SHOULD)\n",
    "        .build();\n",
    "\n",
    "searchQuery(query);"
   ]
  },
  {
   "cell_type": "code",
   "execution_count": null,
   "id": "a849e1be",
   "metadata": {},
   "outputs": [],
   "source": [
    "var query = new BooleanQuery.Builder()\n",
    "        .add(IntField.newRangeQuery(\"runtime\", 120, 180), Occur.FILTER)\n",
    "        .add(TermRangeQuery.newStringRange(\"year\", \"1990\", \"2000\", true, false), Occur.FILTER)\n",
    "        .add(new TermQuery(new Term(\"actors\", \"morgan\")), Occur.SHOULD)\n",
    "        .build();\n",
    "\n",
    "searchQuery(query);"
   ]
  },
  {
   "cell_type": "code",
   "execution_count": null,
   "id": "44047f84",
   "metadata": {},
   "outputs": [],
   "source": [
    "var query = new BooleanQuery.Builder()\n",
    "        .add(new TermQuery(new Term(\"title\", \"star\")), Occur.MUST)\n",
    "        .add(new TermQuery(new Term(\"genre\", \"action\")), Occur.SHOULD)\n",
    "        .build();\n",
    "\n",
    "searchQuery(query);"
   ]
  },
  {
   "cell_type": "code",
   "execution_count": null,
   "id": "927dc69e",
   "metadata": {},
   "outputs": [],
   "source": [
    "var query = new BooleanQuery.Builder()\n",
    "        .add(IntField.newRangeQuery(\"runtime\", 120, 180), Occur.FILTER)\n",
    "        .add(TermRangeQuery.newStringRange(\"year\", \"1990\", \"2000\", true, false), Occur.SHOULD)\n",
    "        .add(new TermQuery(new Term(\"title\", \"shawshank\")), Occur.MUST)\n",
    "        .add(new BoostQuery(new TermQuery(new Term(\"actors\", \"morgan\")), 1.5f), Occur.SHOULD)\n",
    "        .build();\n",
    "        \n",
    "IndexSearcher searcher = getIndexSearcher();\n",
    "TopDocs results = searcher.search(query, 10);\n",
    "printResults(query.toString(), results);\n",
    "System.out.println(searcher.explain(query, results.scoreDocs[0].doc));"
   ]
  },
  {
   "cell_type": "code",
   "execution_count": null,
   "id": "fd8788bf",
   "metadata": {},
   "outputs": [],
   "source": []
  },
  {
   "cell_type": "code",
   "execution_count": null,
   "id": "3ba2bd57",
   "metadata": {},
   "outputs": [],
   "source": []
  },
  {
   "cell_type": "code",
   "execution_count": null,
   "id": "9ade6218",
   "metadata": {},
   "outputs": [],
   "source": []
  },
  {
   "cell_type": "code",
   "execution_count": null,
   "id": "31c80d65",
   "metadata": {},
   "outputs": [],
   "source": []
  },
  {
   "cell_type": "code",
   "execution_count": null,
   "id": "1f65e2d1",
   "metadata": {},
   "outputs": [],
   "source": []
  }
 ],
 "metadata": {
  "kernelspec": {
   "display_name": "Python 3 (ipykernel)",
   "language": "python",
   "name": "python3"
  },
  "language_info": {
   "codemirror_mode": {
    "name": "ipython",
    "version": 3
   },
   "file_extension": ".py",
   "mimetype": "text/x-python",
   "name": "python",
   "nbconvert_exporter": "python",
   "pygments_lexer": "ipython3",
   "version": "3.11.5"
  }
 },
 "nbformat": 4,
 "nbformat_minor": 5
}
