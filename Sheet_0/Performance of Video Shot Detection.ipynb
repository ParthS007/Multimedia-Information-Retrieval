{
  "cells": [
    {
      "cell_type": "markdown",
      "metadata": {
        "id": "jaU3IYR3Bo1A"
      },
      "source": [
        "If the similarity score is high then same \"shot\", if it's low then \"noshot\"\n",
        "We assume \"shot\" means the frames stay in the same shot, and \"noshot\" means the frame goes to another shot.\n",
        "We have to choose (Positive, Negative), (True, Flase) and (threshold)"
      ]
    },
    {
      "cell_type": "code",
      "execution_count": 4,
      "metadata": {
        "id": "Ey-gZCyhDqGv"
      },
      "outputs": [],
      "source": [
        "import pandas as pd\n",
        "import numpy as np\n",
        "from sklearn.metrics import roc_curve, auc\n",
        "import matplotlib.pyplot as plt"
      ]
    },
    {
      "cell_type": "code",
      "execution_count": 5,
      "metadata": {
        "id": "wv_0k8E3YQAN"
      },
      "outputs": [],
      "source": [
        "df = pd.read_csv('/content/Exercise 1 - Improved.txt', sep=\"\\t\")"
      ]
    },
    {
      "cell_type": "code",
      "execution_count": 6,
      "metadata": {
        "colab": {
          "base_uri": "https://localhost:8080/"
        },
        "id": "P3ZEunA2Y0gp",
        "outputId": "c002ff6c-68fb-4930-c8a6-386bfb457984"
      },
      "outputs": [
        {
          "name": "stdout",
          "output_type": "stream",
          "text": [
            "     Similarity   Label\n",
            "0         0.920  noshot\n",
            "1         0.004    shot\n",
            "2         0.838  noshot\n",
            "3         0.925  noshot\n",
            "4         0.737  noshot\n",
            "..          ...     ...\n",
            "195       0.986  noshot\n",
            "196       0.843    shot\n",
            "197       0.000    shot\n",
            "198       0.895  noshot\n",
            "199       0.296    shot\n",
            "\n",
            "[200 rows x 2 columns]\n"
          ]
        }
      ],
      "source": [
        "print(df)"
      ]
    },
    {
      "cell_type": "code",
      "execution_count": null,
      "metadata": {
        "id": "QnyGJyShY33U"
      },
      "outputs": [],
      "source": [
        "# Assuming the values are 'shot' and ' noshot' (with an extra space)\n",
        "label_mapping = {'shot': 'negative', 'noshot': 'positive'}\n",
        "\n",
        "# Apply the mapping\n",
        "df['Label'] = df['Label'].map(label_mapping)\n",
        "\n",
        "# Check the transformed DataFrame\n",
        "print(df.values)\n"
      ]
    },
    {
      "cell_type": "code",
      "execution_count": 8,
      "metadata": {
        "colab": {
          "base_uri": "https://localhost:8080/"
        },
        "id": "eXfJ0m3Xaf_T",
        "outputId": "48c46e67-3929-41e3-9552-8e236e3ed06c"
      },
      "outputs": [
        {
          "name": "stdout",
          "output_type": "stream",
          "text": [
            "     Similarity     Label Predicted_Condition\n",
            "0         0.920  positive                True\n",
            "1         0.004  negative               False\n",
            "2         0.838  positive                True\n",
            "3         0.925  positive                True\n",
            "4         0.737  positive                True\n",
            "..          ...       ...                 ...\n",
            "195       0.986  positive                True\n",
            "196       0.843  negative                True\n",
            "197       0.000  negative               False\n",
            "198       0.895  positive                True\n",
            "199       0.296  negative               False\n",
            "\n",
            "[200 rows x 3 columns]\n"
          ]
        }
      ],
      "source": [
        "# Define a threshold\n",
        "threshold = 0.5\n",
        "\n",
        "# Function to apply the threshold\n",
        "def apply_threshold(value):\n",
        "    if value >= threshold:\n",
        "        return \"True\"\n",
        "    else:\n",
        "        return \"False\"\n",
        "\n",
        "# Apply the function to the 'Similarity' column\n",
        "df['Predicted_Condition'] = df['Similarity'].apply(apply_threshold)\n",
        "\n",
        "# Now df contains a new column 'Predicted_Condition' with values 'True' or 'False'\n",
        "print(df)"
      ]
    },
    {
      "cell_type": "code",
      "execution_count": 203,
      "metadata": {
        "colab": {
          "base_uri": "https://localhost:8080/"
        },
        "id": "zJzLh6z7byJ2",
        "outputId": "89754e86-134c-41bc-d84e-4a068efae5d8"
      },
      "outputs": [
        {
          "name": "stdout",
          "output_type": "stream",
          "text": [
            "TP: 140, TN: 46, FP: 14, FN: 0\n"
          ]
        }
      ],
      "source": [
        "def compute_confusion_matrix(df, actual_label_col, similarity_col, threshold):\n",
        "    TP = TN = FP = FN = 0\n",
        "\n",
        "    for index, row in df.iterrows():\n",
        "        actual_label = row[actual_label_col]\n",
        "        similarity = row[similarity_col]\n",
        "\n",
        "        # Predicted condition based on threshold\n",
        "        predicted_condition = similarity >= threshold\n",
        "\n",
        "        # Increment count for TP, TN, FP, FN\n",
        "        if predicted_condition and actual_label == 'positive':\n",
        "            TP += 1\n",
        "        elif not predicted_condition and actual_label == 'negative':\n",
        "            TN += 1\n",
        "        elif predicted_condition and actual_label == 'negative':\n",
        "            FP += 1\n",
        "        elif not predicted_condition and actual_label == 'positive':\n",
        "            FN += 1\n",
        "\n",
        "    return TP, TN, FP, FN\n",
        "\n",
        "# Example usage:\n",
        "# Assuming df is your DataFrame, 'Label' is the actual label column, and 'Similarity' is the similarity column\n",
        "TP, TN, FP, FN = compute_confusion_matrix(df, 'Label', 'Similarity', 0.5)\n",
        "print(f\"TP: {TP}, TN: {TN}, FP: {FP}, FN: {FN}\")\n"
      ]
    },
    {
      "cell_type": "code",
      "execution_count": 204,
      "metadata": {
        "colab": {
          "base_uri": "https://localhost:8080/"
        },
        "id": "yaF4iRQqcY-G",
        "outputId": "04523f8d-108f-45aa-d5d4-d925c68a8a5c"
      },
      "outputs": [
        {
          "name": "stdout",
          "output_type": "stream",
          "text": [
            "Sensitivity (TPR): 1.0\n",
            "Specificity (TNR): 0.7666666666666667\n",
            "Accuracy (ACC): 0.93\n"
          ]
        }
      ],
      "source": [
        "# Calculate metrics based on the confusion matrix\n",
        "def calculate_metrics(TP, TN, FP, FN):\n",
        "    TPR = TP / (TP + FN) if (TP + FN) != 0 else 0\n",
        "    TNR = TN / (TN + FP) if (TN + FP) != 0 else 0\n",
        "    ACC = (TP + TN) / (TP + TN + FP + FN) if (TP + TN + FP + FN) != 0 else 0\n",
        "    return TPR, TNR, ACC\n",
        "\n",
        "# Assuming df is your DataFrame, 'Label' is the actual label column, and 'Similarity' is the similarity column\n",
        "TP, TN, FP, FN = compute_confusion_matrix(df, 'Label', 'Similarity', 0.5)\n",
        "\n",
        "# Calculate and print the metrics\n",
        "TPR, TNR, ACC = calculate_metrics(TP, TN, FP, FN)\n",
        "print(f\"Sensitivity (TPR): {TPR}\")\n",
        "print(f\"Specificity (TNR): {TNR}\")\n",
        "print(f\"Accuracy (ACC): {ACC}\")"
      ]
    },
    {
      "cell_type": "code",
      "execution_count": 212,
      "metadata": {
        "colab": {
          "base_uri": "https://localhost:8080/",
          "height": 611
        },
        "id": "N3R3zSP7g49w",
        "outputId": "ff27b954-8c2d-41ac-c2e3-853f3642b52f"
      },
      "outputs": [
        {
          "data": {
            "image/png": "[encoded data removed]",
            "text/plain": [
              "<Figure size 640x480 with 1 Axes>"
            ]
          },
          "metadata": {},
          "output_type": "display_data"
        },
        {
          "name": "stdout",
          "output_type": "stream",
          "text": [
            "[0.   0.01 0.02 0.03 0.04 0.05 0.06 0.07 0.08 0.09 0.1  0.11 0.12 0.13\n",
            " 0.14 0.15 0.16 0.17 0.18 0.19 0.2  0.21 0.22 0.23 0.24 0.25 0.26 0.27\n",
            " 0.28 0.29 0.3  0.31 0.32 0.33 0.34 0.35 0.36 0.37 0.38 0.39 0.4  0.41\n",
            " 0.42 0.43 0.44 0.45 0.46 0.47 0.48 0.49 0.5  0.51 0.52 0.53 0.54 0.55\n",
            " 0.56 0.57 0.58 0.59 0.6  0.61 0.62 0.63 0.64 0.65 0.66 0.67 0.68 0.69\n",
            " 0.7  0.71 0.72 0.73 0.74 0.75 0.76 0.77 0.78 0.79 0.8  0.81 0.82 0.83\n",
            " 0.84 0.85 0.86 0.87 0.88 0.89 0.9  0.91 0.92 0.93 0.94 0.95 0.96 0.97\n",
            " 0.98 0.99 1.  ]\n"
          ]
        }
      ],
      "source": [
        "def compute_ROC_curve(df, actual_label_col, similarity_col):\n",
        "    thresholds = np.arange(0,1.01,0.01)  # Thresholds ranging from 0 to 1\n",
        "    TPR_values = []\n",
        "    FPR_values = []\n",
        "\n",
        "    for threshold in thresholds:\n",
        "        TP, TN, FP, FN = compute_confusion_matrix(df, actual_label_col, similarity_col, threshold)\n",
        "        TPR = TP / (TP + FN) if (TP + FN) != 0 else 0\n",
        "        FPR = FP / (FP + TN) if (FP + TN) != 0 else 0\n",
        "        TPR_values.append(TPR)\n",
        "        FPR_values.append(FPR)\n",
        "\n",
        "    return thresholds, TPR_values, FPR_values\n",
        "\n",
        "# Assuming df is your DataFrame, 'Label' is the actual label column, and 'Similarity' is the similarity column\n",
        "thresholds, TPR_values, FPR_values = compute_ROC_curve(df, 'Label', 'Similarity')\n",
        "\n",
        "# Plotting the ROC Curve\n",
        "plt.figure()\n",
        "plt.plot(FPR_values, TPR_values, marker='.')\n",
        "plt.title('ROC Curve')\n",
        "plt.xlabel('False Positive Rate (FPR)')\n",
        "plt.ylabel('True Positive Rate (TPR)')\n",
        "plt.grid(True)\n",
        "plt.show()\n",
        "print(thresholds)"
      ]
    },
    {
      "cell_type": "markdown",
      "metadata": {
        "id": "B1CV9v5ikwXh"
      },
      "source": [
        "##C)"
      ]
    },
    {
      "cell_type": "code",
      "execution_count": 218,
      "metadata": {
        "colab": {
          "base_uri": "https://localhost:8080/",
          "height": 472
        },
        "id": "EnWpW04OhLRu",
        "outputId": "2a5d58ae-4049-46ab-de62-064e82ec47f4"
      },
      "outputs": [
        {
          "data": {
            "image/png": "[encoded data removed]",
            "text/plain": [
              "<Figure size 640x480 with 1 Axes>"
            ]
          },
          "metadata": {},
          "output_type": "display_data"
        }
      ],
      "source": [
        "from sklearn.metrics import roc_curve\n",
        "import matplotlib.pyplot as plt\n",
        "\n",
        "# Convert labels to binary (assuming 'positive' is 1 and 'negative' is 0)\n",
        "df['Binary_Label'] = df['Label'].map({'positive': 1, 'negative': 0})\n",
        "\n",
        "# True labels and predicted scores\n",
        "true_labels = df['Binary_Label']\n",
        "predicted_scores = df['Similarity']\n",
        "\n",
        "# Compute ROC curve\n",
        "fpr, tpr, thresholds = roc_curve(true_labels, predicted_scores)\n",
        "\n",
        "# Plot the ROC curve\n",
        "plt.figure()\n",
        "plt.plot(fpr, tpr, marker='.')\n",
        "plt.title('ROC Curve')\n",
        "plt.xlabel('False Positive Rate')\n",
        "plt.ylabel('True Positive Rate')\n",
        "plt.grid(True)\n",
        "plt.show()"
      ]
    },
    {
      "cell_type": "code",
      "execution_count": 222,
      "metadata": {
        "colab": {
          "base_uri": "https://localhost:8080/"
        },
        "id": "Bs62-Gx4kW_7",
        "outputId": "88b292f6-f64a-4914-cc5b-1c26685445ec"
      },
      "outputs": [
        {
          "name": "stdout",
          "output_type": "stream",
          "text": [
            "Optimal Threshold: 0.736\n",
            "Accuracy at Optimal Threshold: 0.95\n",
            "Area Under the ROC Curve (AUC): 0.9713095238095238\n"
          ]
        }
      ],
      "source": [
        "from sklearn.metrics import roc_curve\n",
        "from sklearn.metrics import accuracy_score\n",
        "import numpy as np\n",
        "\n",
        "# Compute ROC curve\n",
        "fpr, tpr, thresholds = roc_curve(true_labels, predicted_scores)\n",
        "\n",
        "# Find the optimal threshold (closest to top-left)\n",
        "optimal_idx = np.argmin(np.sqrt(fpr**2 + (1-tpr)**2))\n",
        "optimal_threshold = thresholds[optimal_idx]\n",
        "\n",
        "# Apply the optimal threshold to get predicted labels\n",
        "predicted_labels = predicted_scores >= optimal_threshold\n",
        "\n",
        "# Calculate accuracy at this threshold\n",
        "accuracy = accuracy_score(true_labels, predicted_labels)\n",
        "\n",
        "print(f\"Optimal Threshold: {optimal_threshold}\")\n",
        "print(f\"Accuracy at Optimal Threshold: {accuracy}\")\n",
        "\n",
        "# Calculate the AUC\n",
        "auc = roc_auc_score(true_labels, predicted_scores)\n",
        "\n",
        "print(f\"Area Under the ROC Curve (AUC): {auc}\")\n"
      ]
    },
    {
      "cell_type": "code",
      "execution_count": 225,
      "metadata": {
        "colab": {
          "base_uri": "https://localhost:8080/"
        },
        "id": "qM9Z5BislEYM",
        "outputId": "40e003c4-5a54-4902-c214-0aac01a84b74"
      },
      "outputs": [
        {
          "name": "stdout",
          "output_type": "stream",
          "text": [
            "Optimal Threshold: 0.625\n",
            "Accuracy at Optimal Threshold: 0.965\n",
            "Optimal F1 Score: 0.975609756097561\n",
            "Area Under the ROC Curve (AUC): 0.9713095238095238\n"
          ]
        }
      ],
      "source": [
        "from sklearn.metrics import precision_recall_curve, f1_score\n",
        "import numpy as np\n",
        "from sklearn.metrics import average_precision_score\n",
        "\n",
        "# Compute Precision-Recall curve\n",
        "precision, recall, thresholds = precision_recall_curve(true_labels, predicted_scores)\n",
        "\n",
        "# Calculate F1 scores for each threshold\n",
        "f1_scores = 2 * (precision * recall) / (precision + recall)\n",
        "# Find the index of the maximum F1 score\n",
        "optimal_idx = np.nanargmax(f1_scores)\n",
        "optimal_threshold = thresholds[optimal_idx]\n",
        "\n",
        "# Apply the optimal threshold to get predicted labels\n",
        "predicted_labels = predicted_scores >= optimal_threshold\n",
        "\n",
        "# Calculate metrics at this threshold\n",
        "optimal_f1 = f1_scores[optimal_idx]\n",
        "accuracy = accuracy_score(true_labels, predicted_labels)\n",
        "\n",
        "print(f\"Optimal Threshold: {optimal_threshold}\")\n",
        "print(f\"Accuracy at Optimal Threshold: {accuracy}\")\n",
        "print(f\"Optimal F1 Score: {optimal_f1}\")\n",
        "# Calculate the AUC\n",
        "auc = roc_auc_score(true_labels, predicted_scores)\n",
        "\n",
        "print(f\"Area Under the ROC Curve (AUC): {auc}\")\n"
      ]
    },
    {
      "cell_type": "code",
      "execution_count": 221,
      "metadata": {
        "colab": {
          "base_uri": "https://localhost:8080/"
        },
        "id": "KR4Gip5plcyG",
        "outputId": "ff700d45-19db-4c50-c985-56c726379147"
      },
      "outputs": [
        {
          "name": "stdout",
          "output_type": "stream",
          "text": [
            "AUC for Iterative Method: 0.9713095238095238\n",
            "AUC for Scikit-Learn Method: 0.9713095238095238\n"
          ]
        }
      ],
      "source": [
        "from sklearn.metrics import roc_auc_score\n",
        "\n",
        "# Assuming 'Label' is the actual label column and 'Similarity' is the predicted score column\n",
        "true_labels = df['Label'].map({'positive': 1, 'negative': 0}).values\n",
        "predicted_scores = df['Similarity'].values\n",
        "\n",
        "# Calculate AUC for the iterative method\n",
        "auc_iterative = roc_auc_score(true_labels, predicted_scores)\n",
        "print(f\"AUC for Iterative Method: {auc_iterative}\")\n",
        "\n",
        "# Calculate AUC for the Scikit-Learn method\n",
        "auc_sklearn = roc_auc_score(true_labels, predicted_scores)\n",
        "print(f\"AUC for Scikit-Learn Method: {auc_sklearn}\")\n"
      ]
    },
    {
      "cell_type": "code",
      "execution_count": null,
      "metadata": {
        "id": "AhP2Cy-Kl_D9"
      },
      "outputs": [],
      "source": []
    }
  ],
  "metadata": {
    "colab": {
      "provenance": []
    },
    "kernelspec": {
      "display_name": "Python 3",
      "name": "python3"
    },
    "language_info": {
      "name": "python"
    }
  },
  "nbformat": 4,
  "nbformat_minor": 0
}
